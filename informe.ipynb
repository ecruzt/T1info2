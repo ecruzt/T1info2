{
 "cells": [
  {
   "cell_type": "markdown",
   "metadata": {},
   "source": [
    "# 1) Responder las siguientes preguntas (20%, 5% cada uno):\n",
    "\n",
    "## ¿Qué es una clase y que es un objeto en Python? Explique las diferencias y muestre como se define una clase.\n",
    "### Respuesta: Una clase es un molde que permite definir un conjunto de metodos y atributos, un objeto contienene los atributos y metodos que se le atribuyeron al ser creado mediante la clase.La diferencia principal es que el objeto es una variable almacenada en un espacio de memoria y la clase es un conjunto de objetos, capaz de crear mas objetos de la misma classe en diferentes espacios de memoria\n",
    "    \n",
    "## Explique la herencia en la programación orientada a objetos.\n",
    "### Respuesta: la herencia se basa en la Reutilización de Código Permitendo que las subclases reutilicen el código de las superclases, evitando la duplicación.\n",
    "\n",
    "## ¿Qué es la encapsulación en programación orientada a objetos? ¿Porqué utilizar esto?\n",
    "### Respuesta: El encapsulamiento es el proceso de agrupar datos y métodos que operan sobre esos datos en una sola unidad, llamada clase. También restringe el acceso directo a algunos de los componentes de un objeto, protegiendo así su estado interno. Necesitadondo de metodos propios de la clase para poder modificar algunos atributos\n",
    "Protegido(#)(_): self._Tipo\n",
    "\n",
    "privado( _ _ ): (self.__Codigo) requiere de funciones propias en la misma clase\n",
    "\n",
    "publico()\n",
    "\n",
    "## Defina la abstracción en la programación orientada a objetos en Python, ¿cómo se implementa en Python?\n",
    "### Respuesta: La abstracción se centra en ocultar los detalles complejos y mostrar solo las funcionalidades esenciales de un objeto. Permite a los desarrolladores trabajar con conceptos de alto nivel sin preocuparse por las complejidades subyacentes. En python se implementa con las bases abstractas, las cuales no pueden ser instanceadas directamente sino que se usan como base para otras clses y se definen usando el modulo abc\n",
    "\n"
   ]
  },
  {
   "cell_type": "markdown",
   "metadata": {},
   "source": [
    "# 2) Verdadero o falso y justificar (No tiene que ser una justificación larga) (10%, 2.5% cada uno):\n",
    "## Las clases en Python no pueden heredar de más de una clase a la vez(No soportan herencia múltiple).\n",
    "Falso, porque una clase puede heredar varias clase padre en vez de una sola.\n",
    "\n",
    "## La herencia en Python hereda métodos, pero no las propiedades.\n",
    "Falso, porque la herencia en python permite heredar los metodos como las propiedades de una clase base\n",
    "\n",
    "## Al heredar una clase en Python, la clase hija se puede modificar los métodos que fueron definidos en la clase padre para funcionar diferente en la clase hija.\n",
    "Verdadero, el polimorfismo permite que las subclases pueden redefinir métodos de las superclases, permitiendo comportamientos específicos.\n",
    "\n",
    "## La función __init__() no es necesario ejecutarla en todos los casos cuando se define una clase hija.\n",
    "Verdadero, Cuando se define una clase hija en Python, la función __init() de la clase base no se ejecuta automáticamente a menos que la llames explícitamente desde la clase hija. La clase hija puede definir su propio método __init_() sin llamar al de la clase base si no necesita inicializar los atributos definidos en la clase base.\n"
   ]
  },
  {
   "cell_type": "markdown",
   "metadata": {},
   "source": [
    "# 3) Observe el siguiente código y respondas las preguntas (30%, 6% por pregunta):\n"
   ]
  },
  {
   "cell_type": "code",
   "execution_count": 2,
   "metadata": {},
   "outputs": [
    {
     "name": "stdout",
     "output_type": "stream",
     "text": [
      "Andres Banquez está en el nivel 10\n",
      "Jose Alberto es profesor de Matematicas\n",
      "Jose Alberto es profesor de Ciencias\n"
     ]
    }
   ],
   "source": [
    "class Persona:\n",
    "    def __init__(self, nombre: str, apellido: str):\n",
    "        self.nombre = nombre\n",
    "        self.apellido = apellido\n",
    "\n",
    "    def __str__(self):\n",
    "        return f'{self.nombre} {self.apellido}'\n",
    "\n",
    "class Profesor(Persona):\n",
    "    def __init__(self, nombre: str, apellido: str, materia: str):\n",
    "        super().__init__(nombre, apellido)\n",
    "        self.__materia = materia\n",
    "\n",
    "    @property\n",
    "    def materia(self):\n",
    "        return self.__materia\n",
    "\n",
    "    @materia.setter\n",
    "    def materia(self, materia):\n",
    "        self.__materia = materia\n",
    "\n",
    "    def __str__(self):\n",
    "        return f'{super().__str__()} es profesor de {self.materia}'\n",
    "\n",
    "class Estudiante(Persona):\n",
    "    def __init__(self, nombre: str, apellido: str, nivel: str):\n",
    "        super().__init__(nombre, apellido)\n",
    "        self.nivel = nivel\n",
    "\n",
    "    def __str__(self):\n",
    "        return f'{super().__str__()} está en el nivel {self.nivel}'\n",
    "\n",
    "estudiante = Estudiante(\"Andres\", \"Banquez\", 10)\n",
    "profesor = Profesor(\"Jose\", \"Alberto\", \"Matematicas\")\n",
    "print(estudiante)\n",
    "print(profesor)\n",
    "profesor.materia = \"Ciencias\"\n",
    "print(profesor)"
   ]
  },
  {
   "cell_type": "markdown",
   "metadata": {},
   "source": [
    "\n",
    "\n",
    "# ¿Qué clases son padres y que clases son hijas? ¿Qué es lo que se hereda de las clases padres a las hijas en este caso?\n",
    "Clases padres: Persona es la clase base (padre).\n",
    "Clases hijas: Profesor y Estudiante son clases derivadas (hijas) de Persona.\n",
    "Lo que se hereda:\n",
    "Las clases Profesor y Estudiante heredan los atributos nombre y apellido, así como el método __str_() de la clase Persona.\n",
    "\n",
    "# ¿Por qué al utilizar la función print en los objetos estudiante y profesor, se imprime la información ingresada y no algo diferente?\n",
    "Esto sucede porque el método __str_() de cada clase es llamado automáticamente cuando usas print. Este método devuelve una cadena que representa la instancia del objeto de manera legible.\n",
    "\n",
    "Para estudiante, el método __str_() de la clase Estudiante se llama, que devuelve 'Andres Banquez está en el nivel 10'.\n",
    "Para profesor, el método __str_() de la clase Profesor se llama, que a su vez llama al método __str_() de la clase base Persona y agrega 'es profesor de Matemáticas'.\n",
    "\n",
    "# ¿Por qué a pesar de que “materia” tiene un encapsulamiento de tipo privado se puede hacer el cambio de la materia con profesor.materia = “”?.\n",
    "Aunque el atributo __materia está encapsulado como privado (con doble guion bajo), el uso del decorador @property proporciona una interfaz pública para acceder y modificar el atributo. La propiedad materia actúa como un intermediario que permite leer y escribir el valor de __materia mediante los métodos getter y setter definidos. Por lo tanto, puedes cambiar el valor de materia utilizando profesor.materia = \"Ciencias\".\n",
    "\n",
    "# Explique la función del decorador @property en el código.\n",
    "El decorador @property convierte el método materia() en una propiedad. Esto permite que materia sea accedido como si fuera un atributo normal, pero en realidad está utilizando el método getter para devolver el valor del atributo privado __materia. Esto proporciona una forma controlada de acceder al valor de __materia.\n",
    "\n",
    "# Explique la función del decorador @materia.setter en el código.\n",
    "El decorador @materia.setter define un método setter para la propiedad materia. Esto permite asignar un nuevo valor al atributo privado __materia a través de la propiedad materia. Cuando usas profesor.materia = \"Ciencias\", el método setter se llama y actualiza el valor de __materia con \"Ciencias\". Este patrón asegura que el acceso y la modificación del atributo privado se realicen de manera controlada."
   ]
  }
 ],
 "metadata": {
  "kernelspec": {
   "display_name": "Python 3",
   "language": "python",
   "name": "python3"
  },
  "language_info": {
   "codemirror_mode": {
    "name": "ipython",
    "version": 3
   },
   "file_extension": ".py",
   "mimetype": "text/x-python",
   "name": "python",
   "nbconvert_exporter": "python",
   "pygments_lexer": "ipython3",
   "version": "3.12.5"
  }
 },
 "nbformat": 4,
 "nbformat_minor": 2
}
